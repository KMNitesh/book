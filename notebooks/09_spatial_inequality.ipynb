{
 "cells": [
  {
   "cell_type": "markdown",
   "metadata": {
    "ein.tags": "worksheet-0",
    "slideshow": {
     "slide_type": "-"
    }
   },
   "source": [
    "# Spatial Inequality\n",
    "\n",
    "\n",
    "## Introduction\n",
    "\n",
    "At the time this is being written, the topic of inequality is at the top of\n",
    "agenda of policy makers and is drawing considerable attention in academic\n",
    "circles. This is due to historic levels of inequality across the globe. Much of the focus has been on *interpersonal income inequality*,\n",
    "yet there is a growing recognition that the question of *interregional income\n",
    "inequality* requires further attention as the growing gaps between poor and rich\n",
    "regions have been identified as key drivers of political polarization in\n",
    "developing and developed countries {cite}`Rodriguez_Pose_2018`.\n",
    "\n",
    "Indeed, while the two literatures, personal and regional inequality, are\n",
    "related, they have developed in a largely parallel fashion with limited\n",
    "cross-fertilization. In this notebook, we examine how a spatially explicit focus\n",
    "can provide insights on inequality and its dynamics. We also show the lineage of\n",
    "regional inequality analysis to make explicit the linkage between it and the\n",
    "older literature on personal inequality analysis.\n",
    "\n",
    "We begin with an introduction to classic methods for interpersonal income\n",
    "inequality analysis and how they have been adopted to the question of regional\n",
    "inequalities. These include a number of graphical tools along side familiar\n",
    "indices of inequality. As we discuss more fully, the use of these classical\n",
    "methods in spatially referenced data, while useful in providing insights on some\n",
    "of the aspects of spatial inequality, fails to fully capture the nature of\n",
    "geographical disparities and their dynamics. Thus, we next move to spatially\n",
    "explicit measures for regional inequality analysis. The notebook closes with\n",
    "some recent extensions of some classical measures to more fully examine the\n",
    "spatial dimensions of regional inequality dynamics.\n",
    "\n",
    "\n",
    "## Data: US State Per-Capita Income 1969-2017\n",
    "\n",
    "\n",
    "We focus on the case of the United States over the\n",
    "period  1969-2017.\n"
   ]
  },
  {
   "cell_type": "markdown",
   "metadata": {
    "ein.tags": "worksheet-0",
    "lines_to_next_cell": 0,
    "slideshow": {
     "slide_type": "-"
    }
   },
   "source": [
    "---"
   ]
  },
  {
   "cell_type": "code",
   "execution_count": null,
   "metadata": {
    "collapsed": false,
    "ein.hycell": false,
    "ein.tags": "worksheet-0",
    "jupyter": {
     "outputs_hidden": false
    },
    "slideshow": {
     "slide_type": "-"
    }
   },
   "outputs": [],
   "source": [
    "%matplotlib inline\n",
    "\n",
    "import seaborn\n",
    "import pandas\n",
    "import geopandas\n",
    "import pysal\n",
    "import numpy\n",
    "import mapclassify\n",
    "import matplotlib.pyplot as plt\n",
    "from pylab import rcParams\n",
    "rcParams['figure.figsize'] = 10, 5"
   ]
  },
  {
   "cell_type": "code",
   "execution_count": null,
   "metadata": {},
   "outputs": [],
   "source": [
    "url = 'https://github.com/gdsbook/data_archive/raw/master/us_county_income/uscountypcincome.gpkg'\n",
    "gdf = geopandas.read_file(url)\n",
    "gdf.head()\n",
    "                    "
   ]
  },
  {
   "cell_type": "markdown",
   "metadata": {
    "ein.tags": "worksheet-0",
    "slideshow": {
     "slide_type": "-"
    }
   },
   "source": [
    "Inspection of the head of the data frame reveals that the years appear as columns in the data set, together with information about the particular record.\n",
    "This format is an example of a [*wide* longitudinal data set](https://www.theanalysisfactor.com/wide-and-long-data/).\n"
   ]
  },
  {
   "cell_type": "code",
   "execution_count": null,
   "metadata": {
    "collapsed": false,
    "ein.hycell": false,
    "ein.tags": "worksheet-0",
    "jupyter": {
     "outputs_hidden": false
    },
    "lines_to_next_cell": 0,
    "slideshow": {
     "slide_type": "-"
    }
   },
   "outputs": [],
   "source": [
    "gdf[['LineCode', 'Descriptio']].head()\n"
   ]
  },
  {
   "cell_type": "code",
   "execution_count": null,
   "metadata": {
    "collapsed": false,
    "ein.hycell": false,
    "ein.tags": "worksheet-0",
    "jupyter": {
     "outputs_hidden": false
    },
    "slideshow": {
     "slide_type": "-"
    }
   },
   "outputs": [],
   "source": [
    "pci_df = gdf[gdf.LineCode == 3]"
   ]
  },
  {
   "cell_type": "code",
   "execution_count": null,
   "metadata": {
    "collapsed": false,
    "ein.hycell": false,
    "ein.tags": "worksheet-0",
    "jupyter": {
     "outputs_hidden": false
    },
    "slideshow": {
     "slide_type": "-"
    }
   },
   "outputs": [],
   "source": [
    "pci_df.head()"
   ]
  },
  {
   "cell_type": "code",
   "execution_count": null,
   "metadata": {
    "collapsed": false,
    "ein.hycell": false,
    "ein.tags": "worksheet-0",
    "jupyter": {
     "outputs_hidden": false
    },
    "slideshow": {
     "slide_type": "-"
    }
   },
   "outputs": [],
   "source": [
    "gdf.head()"
   ]
  },
  {
   "cell_type": "code",
   "execution_count": null,
   "metadata": {
    "collapsed": false,
    "ein.hycell": false,
    "ein.tags": "worksheet-0",
    "jupyter": {
     "outputs_hidden": false
    },
    "slideshow": {
     "slide_type": "-"
    }
   },
   "outputs": [],
   "source": [
    "pci_df.shape"
   ]
  },
  {
   "cell_type": "code",
   "execution_count": null,
   "metadata": {
    "collapsed": false,
    "ein.hycell": false,
    "ein.tags": "worksheet-0",
    "jupyter": {
     "outputs_hidden": false
    },
    "slideshow": {
     "slide_type": "-"
    }
   },
   "outputs": [],
   "source": [
    "pci_df[['1969', 'STATEFP', 'COUNTYFP', 'geometry']].head()"
   ]
  },
  {
   "cell_type": "markdown",
   "metadata": {
    "ein.tags": "worksheet-0",
    "slideshow": {
     "slide_type": "-"
    }
   },
   "source": [
    "## Global Inequality\n",
    "We begin our examination of inequality by focusing on several global measures. Here, global means the measure is concerned with the overall, or a-spatial, nature of inequality. Several classic measures of inequality are available for this purpose.\n",
    "\n",
    "In general terms, measures of inequality focus on the dispersion present in an income distribution. In the case of regional, or spatial, inequality the distributions are defined on average or per-capita incomes for a spatial unit, such as a county, census tract, or region. For the US counties, we can visualize the distribution of per capita incomes for the first year in the sample as follows:\n",
    "\n",
    "\n",
    "To get a sense for the value distribution for per capita income, we can first discretize the distribution:"
   ]
  },
  {
   "cell_type": "code",
   "execution_count": null,
   "metadata": {
    "collapsed": false,
    "ein.hycell": false,
    "ein.tags": "worksheet-0",
    "jupyter": {
     "outputs_hidden": false
    },
    "lines_to_next_cell": 2,
    "slideshow": {
     "slide_type": "-"
    }
   },
   "outputs": [],
   "source": [
    "import seaborn  as sns\n",
    "sns.set()\n",
    "sns.distplot(pci_df['1969'])\n"
   ]
  },
  {
   "cell_type": "markdown",
   "metadata": {},
   "source": [
    "The long right tail is a prominent feature of the distribution, and is common in the study of incomes. A key point to keep in mind here is that the unit of measurement in this data is a spatial aggregate - a county. By contrast, in the wider inequality literature the observational unit is typically a household or individual. In the latter distributions, the degree of skewness is often more pronounced, and this is because the regional distributions are based on averages obtained from the individual distributions."
   ]
  },
  {
   "cell_type": "markdown",
   "metadata": {},
   "source": [
    "The density is a powerful summary device that captures the overall morphology of the *value* distribution. At the same time, the density is silent on the underlying *spatial distribution* of county incomes. We can look at this second view of the distribution using a choropleth map:"
   ]
  },
  {
   "cell_type": "code",
   "execution_count": null,
   "metadata": {
    "collapsed": false,
    "ein.hycell": false,
    "ein.tags": "worksheet-0",
    "jupyter": {
     "outputs_hidden": false
    },
    "slideshow": {
     "slide_type": "-"
    }
   },
   "outputs": [],
   "source": [
    "from pysal.viz import mapclassify\n",
    "pci_1969 = pci_df['1969']"
   ]
  },
  {
   "cell_type": "code",
   "execution_count": null,
   "metadata": {
    "collapsed": false,
    "ein.hycell": false,
    "ein.tags": "worksheet-0",
    "jupyter": {
     "outputs_hidden": false
    },
    "lines_to_next_cell": 0,
    "slideshow": {
     "slide_type": "-"
    }
   },
   "outputs": [],
   "source": [
    "q5_1969 = mapclassify.Quantiles(pci_df['1969'])\n"
   ]
  },
  {
   "cell_type": "code",
   "execution_count": null,
   "metadata": {
    "collapsed": false,
    "ein.hycell": false,
    "ein.tags": "worksheet-0",
    "jupyter": {
     "outputs_hidden": false
    },
    "slideshow": {
     "slide_type": "-"
    }
   },
   "outputs": [],
   "source": [
    "_= pci_df.plot(column='1969', scheme='Quantiles', legend=True,\n",
    "                 edgecolor='none',\n",
    "             legend_kwds={'loc': 'lower right',\n",
    "                         'bbox_to_anchor':(1.5, 0.0)}, figsize=(12, 12))"
   ]
  },
  {
   "cell_type": "markdown",
   "metadata": {},
   "source": [
    "The choropleth and the kernel density provide different visual depictions of the distribution of county incomes. These are useful for developing an understanding of the overall  To gain more specific insights on the level of inequality in the distribution, we turn to a number of inequality indices."
   ]
  },
  {
   "cell_type": "markdown",
   "metadata": {
    "lines_to_next_cell": 0
   },
   "source": [
    "### 20:20 Ratio\n",
    "\n",
    "One commonly used measure of inequality in a distribution is the so called 20:20 ratio, which is defined as the ratio of the incomes at the 80th percentile over that at the 20th percentile: \n",
    "<!-- #endregion -->"
   ]
  },
  {
   "cell_type": "code",
   "execution_count": null,
   "metadata": {
    "collapsed": false,
    "ein.hycell": false,
    "ein.tags": "worksheet-0",
    "jupyter": {
     "outputs_hidden": false
    },
    "lines_to_next_cell": 2,
    "slideshow": {
     "slide_type": "-"
    }
   },
   "outputs": [],
   "source": [
    "q5_1969.bins"
   ]
  },
  {
   "cell_type": "code",
   "execution_count": null,
   "metadata": {
    "collapsed": false,
    "ein.hycell": false,
    "ein.tags": "worksheet-0",
    "jupyter": {
     "outputs_hidden": false
    },
    "lines_to_next_cell": 0,
    "slideshow": {
     "slide_type": "-"
    }
   },
   "outputs": [],
   "source": [
    "i_20_20 = q5_1969.bins[-2]/q5_1969.bins[0]\n",
    "i_20_20"
   ]
  },
  {
   "cell_type": "markdown",
   "metadata": {
    "ein.tags": "worksheet-0",
    "slideshow": {
     "slide_type": "-"
    }
   },
   "source": [
    "In 1969 the richest 20% of the counties had an income that was 1.5 times the poorest 20% of the counties. The 20:20 ratio has the advantage of being robust to outliers at the top and the bottom of the distribution. \n",
    "\n",
    "We can examine the dynamics of this global inequality measure by creating a simple function to apply to all years in our time series:"
   ]
  },
  {
   "cell_type": "code",
   "execution_count": null,
   "metadata": {
    "collapsed": false,
    "ein.hycell": false,
    "ein.tags": "worksheet-0",
    "jupyter": {
     "outputs_hidden": false
    },
    "slideshow": {
     "slide_type": "-"
    }
   },
   "outputs": [],
   "source": [
    "def ineq_2020(values):\n",
    "    q5 = mapclassify.Quantiles(values)\n",
    "    return q5.bins[-2]/q5.bins[0]\n",
    "    \n",
    "    "
   ]
  },
  {
   "cell_type": "code",
   "execution_count": null,
   "metadata": {
    "collapsed": false,
    "ein.hycell": false,
    "ein.tags": "worksheet-0",
    "jupyter": {
     "outputs_hidden": false
    },
    "lines_to_next_cell": 0,
    "slideshow": {
     "slide_type": "-"
    }
   },
   "outputs": [],
   "source": [
    "years = list(range(1969, 2018))\n",
    "i_20_20_all = numpy.array([ ineq_2020(pci_df[str(year)]) for year in years])\n",
    "_ = plt.plot(years, i_20_20_all)\n",
    "_ = plt.ylabel(\"20:20 ratio\")\n",
    "_ = plt.xlabel(\"Year\")\n",
    "\n"
   ]
  },
  {
   "cell_type": "markdown",
   "metadata": {
    "ein.tags": "worksheet-0",
    "slideshow": {
     "slide_type": "-"
    }
   },
   "source": [
    "The ratio has a U-shaped pattern over time, bottoming out around 1994 after a long secular decline in the early period. Post 1994, however, the trend is one of increasing inequality up until 2013 where there is a turn towards lower income inequality between the counties.\n"
   ]
  },
  {
   "cell_type": "markdown",
   "metadata": {
    "ein.tags": "worksheet-0",
    "slideshow": {
     "slide_type": "-"
    }
   },
   "source": [
    "For other classic measures of inequality, we will use the `inequality` package from `pysal`:"
   ]
  },
  {
   "cell_type": "code",
   "execution_count": null,
   "metadata": {
    "collapsed": false,
    "ein.hycell": false,
    "ein.tags": "worksheet-0",
    "jupyter": {
     "outputs_hidden": false
    },
    "slideshow": {
     "slide_type": "-"
    }
   },
   "outputs": [],
   "source": [
    "from pysal.explore import inequality"
   ]
  },
  {
   "cell_type": "markdown",
   "metadata": {
    "ein.tags": "worksheet-0",
    "slideshow": {
     "slide_type": "-"
    }
   },
   "source": [
    "### Gini Index\n",
    "\n",
    "The Gini index can be derived in a number of ways. Visually, the Gini is defined as the ratio of the area between\n",
    "the line of equality and the Lorenze curve over the area below the line of equality, both of which are defined on a a two-dimensional space with population\n",
    "percentiles on the x-axis and cumulative income on the vertical axis.\n",
    "\n",
    "We can construct each of these as follows:\n"
   ]
  },
  {
   "cell_type": "code",
   "execution_count": null,
   "metadata": {},
   "outputs": [],
   "source": [
    "y = pci_df.sort_values(by=['1969'])['1969']"
   ]
  },
  {
   "cell_type": "code",
   "execution_count": null,
   "metadata": {},
   "outputs": [],
   "source": [
    "Fy = (y / y.sum()).cumsum()"
   ]
  },
  {
   "cell_type": "code",
   "execution_count": null,
   "metadata": {},
   "outputs": [],
   "source": [
    "import numpy as np\n",
    "%matplotlib inline\n",
    "import matplotlib.pyplot as plt"
   ]
  },
  {
   "cell_type": "code",
   "execution_count": null,
   "metadata": {},
   "outputs": [],
   "source": [
    "n = y.shape[0]\n",
    "Fn = np.arange(1, n+1)/n"
   ]
  },
  {
   "cell_type": "code",
   "execution_count": null,
   "metadata": {
    "lines_to_next_cell": 0
   },
   "outputs": [],
   "source": [
    "f, ax = plt.subplots()\n",
    "ax.plot(Fn,Fy)\n",
    "ax.plot(Fn, Fn)\n",
    "#plt.xlim(0, 1.0)"
   ]
  },
  {
   "cell_type": "markdown",
   "metadata": {},
   "source": [
    "The blue line is the Lorenze curve, and the Gini is the area between it and the 45-degree line of equality, expressed as a ratio over the area under the line of equality.\n",
    "\n",
    "To examine how inequality evolves over time, we can create a function for the Lorenze curve:"
   ]
  },
  {
   "cell_type": "code",
   "execution_count": null,
   "metadata": {},
   "outputs": [],
   "source": [
    "def lorenz(y):\n",
    "    y = np.sort(y)\n",
    "    Fy = (y / y.sum()).cumsum()\n",
    "    n = y.shape[0]\n",
    "    Fn = np.arange(1, n+1)/n\n",
    "    return Fy"
   ]
  },
  {
   "cell_type": "code",
   "execution_count": null,
   "metadata": {
    "lines_to_next_cell": 0
   },
   "outputs": [],
   "source": [
    "lorenz(y)"
   ]
  },
  {
   "cell_type": "markdown",
   "metadata": {
    "lines_to_next_cell": 0
   },
   "source": [
    "and then call this for each year in our sample:"
   ]
  },
  {
   "cell_type": "code",
   "execution_count": null,
   "metadata": {},
   "outputs": [],
   "source": [
    "lorenz_curves = np.array([ lorenz(pci_df[str(year)]) for year in years])"
   ]
  },
  {
   "cell_type": "code",
   "execution_count": null,
   "metadata": {},
   "outputs": [],
   "source": [
    "f, ax = plt.subplots()\n",
    "ax.plot(Fn,Fn)\n",
    "for c in lorenz_curves:\n",
    "    ax.plot(Fn, c)\n"
   ]
  },
  {
   "cell_type": "markdown",
   "metadata": {},
   "source": [
    "The compression of the Lorenze curves makes it difficult to ascertain the temporal pattern in inequality. Focusing explicilty on the Gini coefficients may shed more light on this evolution:"
   ]
  },
  {
   "cell_type": "code",
   "execution_count": null,
   "metadata": {
    "collapsed": false,
    "ein.hycell": false,
    "ein.tags": "worksheet-0",
    "jupyter": {
     "outputs_hidden": false
    },
    "slideshow": {
     "slide_type": "-"
    }
   },
   "outputs": [],
   "source": [
    "g69 = inequality.gini.Gini(pci_df['1969'].values)\n"
   ]
  },
  {
   "cell_type": "code",
   "execution_count": null,
   "metadata": {
    "collapsed": false,
    "ein.hycell": false,
    "ein.tags": "worksheet-0",
    "jupyter": {
     "outputs_hidden": false
    },
    "slideshow": {
     "slide_type": "-"
    }
   },
   "outputs": [],
   "source": [
    "g69.g"
   ]
  },
  {
   "cell_type": "code",
   "execution_count": null,
   "metadata": {
    "collapsed": false,
    "ein.hycell": false,
    "ein.tags": "worksheet-0",
    "jupyter": {
     "outputs_hidden": false
    },
    "slideshow": {
     "slide_type": "-"
    }
   },
   "outputs": [],
   "source": [
    "years = [str(y) for y in range(1969, 2018)]\n",
    "ginis = numpy.array([inequality.gini.Gini(pci_df[year].values).g for year in years])\n",
    "years = numpy.array([int(y) for y in years])"
   ]
  },
  {
   "cell_type": "code",
   "execution_count": null,
   "metadata": {
    "collapsed": false,
    "ein.hycell": false,
    "ein.tags": "worksheet-0",
    "jupyter": {
     "outputs_hidden": false
    },
    "slideshow": {
     "slide_type": "-"
    }
   },
   "outputs": [],
   "source": [
    "gini_df = pandas.DataFrame(data = numpy.hstack([[years, ginis]]).T, columns=['Year', 'Gini'])\n",
    "gini_df['Year'] = gini_df['Year'].astype(int)\n",
    "gini_df.head()"
   ]
  },
  {
   "cell_type": "code",
   "execution_count": null,
   "metadata": {
    "collapsed": false,
    "ein.hycell": false,
    "ein.tags": "worksheet-0",
    "jupyter": {
     "outputs_hidden": false
    },
    "slideshow": {
     "slide_type": "-"
    }
   },
   "outputs": [],
   "source": [
    "gini_df.index = pandas.to_datetime(gini_df['Year'], format=\"%Y\")\n",
    "gini_df = gini_df.drop(columns=[\"Year\"])"
   ]
  },
  {
   "cell_type": "code",
   "execution_count": null,
   "metadata": {
    "collapsed": false,
    "ein.hycell": false,
    "ein.tags": "worksheet-0",
    "jupyter": {
     "outputs_hidden": false
    },
    "slideshow": {
     "slide_type": "-"
    }
   },
   "outputs": [],
   "source": [
    "_ = gini_df.plot(y=[\"Gini\"])"
   ]
  },
  {
   "cell_type": "markdown",
   "metadata": {},
   "source": [
    "### Theil's index\n",
    "\n",
    "A third commonly used measure of inequality is Theil's $T$ given as:\n",
    "$$T = \\sum_{i=1}^m \\left( \\frac{y_i}{\\sum_{i=1}^m y_i} \\ln \\left[ m \\frac{y_i}{\\sum_{i=1}^m y_i}\\right] \\right)$$\n",
    "where $y_i$ is per-capita income in area $i$ among $m$ areas. In PySAL, we can calculate this index each year as:"
   ]
  },
  {
   "cell_type": "code",
   "execution_count": null,
   "metadata": {
    "collapsed": false,
    "ein.hycell": false,
    "ein.tags": "worksheet-0",
    "jupyter": {
     "outputs_hidden": false
    },
    "slideshow": {
     "slide_type": "-"
    }
   },
   "outputs": [],
   "source": [
    "gini_df['T'] = [inequality.theil.Theil(pci_df[str(y)]).T for y in years]"
   ]
  },
  {
   "cell_type": "code",
   "execution_count": null,
   "metadata": {
    "collapsed": false,
    "ein.hycell": false,
    "ein.tags": "worksheet-0",
    "jupyter": {
     "outputs_hidden": false
    },
    "slideshow": {
     "slide_type": "-"
    }
   },
   "outputs": [],
   "source": [
    "#gini_df.plot(figsize=(15,4))\n",
    "_ = gini_df.plot(subplots=True, figsize=(15,6))\n",
    "#gini_df.plot(y=['Gini', 'T'], figsize=(15,4))"
   ]
  },
  {
   "cell_type": "markdown",
   "metadata": {},
   "source": [
    "The time paths of the Gini and the Theil coefficients show striking\n",
    "similarities, and, at first glance, this might suggest that the indices are\n",
    "substitutes for one another. As we shall see below, however, each index has\n",
    "properties that lend themselves to particular spatial extensions that provide\n",
    "important complementarities.\n",
    "\n",
    "## Personal versus Regional Income\n",
    "There is a subtle but important distinction between the study of personal and\n",
    "regional income inequality. To see this, we first need to express the\n",
    "relationships between the two types of inequality. Consider a country composed\n",
    "of $N$ individuals who are distributed over $m$ regions. Let $Y_l$ denote the\n",
    "income of individual $l$. Total personal income in region $i$ is given as $Y_i =\n",
    "\\sum_{l \\in i} Y_l$. Per-capita income in region $i$ is $y_i = \\frac{Y_i}{N_i}$,\n",
    "where $N_i$ is the number of individuals in region $i$.\n",
    "\n",
    "At the national level,  the coefficient of variation as an index of  interpersonal income inequality would be:\n",
    "\n",
    "$$CV_{nat} = \\sqrt{\\frac{\\sum_{l=1}^N (Y_l - \\bar{y})^2}{N}}$$\n",
    "\n",
    "where $\\bar{y}$ is national per-capita income. The key component here is the sum\n",
    "of squares term, and unpacking this sheds light on personal versus regional\n",
    "inequality question:"
   ]
  },
  {
   "cell_type": "markdown",
   "metadata": {},
   "source": [
    "$$TSS = \\sum_{l=1}^N (Y_l - \\bar{y})^2$$\n",
    "\n",
    "Focusing on an individual deviation: $\\delta_l = Y_l - \\bar{y}$, this is the contribution to inequality associated with individual $l$. We can break this into two components:\n",
    "\n",
    "$$\\delta_l = (Y_l - y_i) +  (y_i - \\bar{y})$$\n",
    "\n",
    "The first term is the difference between the individual's income and per-capita income in the individual's region of residence, while the second term is the difference between the region's per capita income and average national per capita income.\n",
    "\n",
    "In regional studies, the intraregional personal income distribution is typically\n",
    "not available. As a result, the assumption is often made that intraregional\n",
    "personal inequality is zero. In other words, all individuals in the same region\n",
    "have identical incomes. With this assumption in hand, the first term vanishes:\n",
    "$Y_l -y_i = 0$, leading to:[^reg] \n",
    "\n",
    "[^reg]: It should also be noted that even at the national scale, the analysis of interpersonal income inequality also relies on aggregate data grouping individuals into income cohorts. See, for example, {cite}`Piketty_2003`.\n",
    "\n",
    "$$\n",
    "\\begin{aligned}\n",
    "TSS &= \\sum_{l=1}^N (Y_l - \\bar{y})^2 \\\\\n",
    "    &= \\sum_{l=1}^N \\delta_l^2 \\\\\n",
    "    &= \\sum_{l=1}^N ((Y_l - y_i) +  (y_i - \\bar{y}))^2 \\\\\n",
    "    &= \\sum_{l=1}^N (0 +  (y_i - \\bar{y}))^2 \\\\\n",
    "    &= \\sum_{i=1}^m\\sum_{l \\in i}  (y_i - \\bar{y})^2 \\\\\n",
    "    &= \\sum_{i=1}^m  [N_i(y_i - \\bar{y})]^2\n",
    "\\end{aligned}\n",
    "$$\n",
    "\n",
    "This means that each individual in a region has an equal contribution to the\n",
    "overall level of national interpersonal inequality, given by $(y_i - \\bar{y})$,\n",
    "while the region in question contributes $N_i(y_i - \\bar{y})$. While it may seem\n",
    "that the assumption of zero intraregional interepersonal income inequality is\n",
    "overly restrictive, it serves to isolate the nature of interregional income\n",
    "inequality. That is, inequality between places, rather than inequality between\n",
    "people within those places. In essence, this strategy shifts the question up one\n",
    "level in the spatial hierarchy by aggregating micro-level individual data to\n",
    "areal units.\n",
    "\n"
   ]
  },
  {
   "cell_type": "markdown",
   "metadata": {
    "ein.tags": "worksheet-0",
    "lines_to_next_cell": 0,
    "slideshow": {
     "slide_type": "-"
    }
   },
   "source": [
    "## Spatial Inequality"
   ]
  },
  {
   "cell_type": "markdown",
   "metadata": {},
   "source": [
    "The analysis of regional income inequality is distinguished from the analysis of\n",
    "national interpersonal income inequality in its focus on spatial units. As\n",
    "regional incomes are embedded in geographical space, it is important to consider\n",
    "the special nature of spatial data. In the regional inequality literature this\n",
    "has been approaches in a number of ways."
   ]
  },
  {
   "cell_type": "markdown",
   "metadata": {
    "ein.tags": "worksheet-0",
    "slideshow": {
     "slide_type": "-"
    }
   },
   "source": [
    "### Spatial Autocorrelation\n",
    "To get some insights on the spatial properties of regional income data, we can\n",
    "turn to global measures of spatial autocorrelation that we encountered in\n",
    "chapter XX. We use a queen spatial weights matrix to calculate Moran's I for\n",
    "each year in the sample."
   ]
  },
  {
   "cell_type": "code",
   "execution_count": null,
   "metadata": {
    "collapsed": false,
    "ein.hycell": false,
    "ein.tags": "worksheet-0",
    "jupyter": {
     "outputs_hidden": false
    },
    "slideshow": {
     "slide_type": "-"
    }
   },
   "outputs": [],
   "source": [
    "wq = pysal.lib.weights.Queen.from_dataframe(pci_df)"
   ]
  },
  {
   "cell_type": "code",
   "execution_count": null,
   "metadata": {
    "collapsed": false,
    "ein.hycell": false,
    "ein.tags": "worksheet-0",
    "jupyter": {
     "outputs_hidden": false
    },
    "slideshow": {
     "slide_type": "-"
    }
   },
   "outputs": [],
   "source": [
    "wq.n"
   ]
  },
  {
   "cell_type": "code",
   "execution_count": null,
   "metadata": {
    "collapsed": false,
    "ein.hycell": false,
    "ein.tags": "worksheet-0",
    "jupyter": {
     "outputs_hidden": false
    },
    "slideshow": {
     "slide_type": "-"
    }
   },
   "outputs": [],
   "source": [
    "MI = [pysal.explore.esda.moran.Moran(pci_df[str(y)], wq) for y in years]"
   ]
  },
  {
   "cell_type": "code",
   "execution_count": null,
   "metadata": {
    "collapsed": false,
    "ein.hycell": false,
    "ein.tags": "worksheet-0",
    "jupyter": {
     "outputs_hidden": false
    },
    "lines_to_next_cell": 0,
    "slideshow": {
     "slide_type": "-"
    }
   },
   "outputs": [],
   "source": [
    "res = np.array([ (mi.I, mi.p_sim) for mi in MI])"
   ]
  },
  {
   "cell_type": "code",
   "execution_count": null,
   "metadata": {},
   "outputs": [],
   "source": [
    "res.shape"
   ]
  },
  {
   "cell_type": "code",
   "execution_count": null,
   "metadata": {
    "collapsed": false,
    "ein.hycell": false,
    "ein.tags": "worksheet-0",
    "jupyter": {
     "outputs_hidden": false
    },
    "lines_to_next_cell": 0,
    "slideshow": {
     "slide_type": "-"
    }
   },
   "outputs": [],
   "source": [
    "res_df = gini_df\n",
    "res_df['I'] = res[:,0]\n",
    "res_df['I pvalue'] = res[:,1]\n",
    "_ = res_df[[\"Gini\", \"T\", \"I\", \"I pvalue\"]].plot(subplots=True, figsize=(15,6))"
   ]
  },
  {
   "cell_type": "code",
   "execution_count": null,
   "metadata": {},
   "outputs": [],
   "source": [
    "res_df.columns"
   ]
  },
  {
   "cell_type": "markdown",
   "metadata": {
    "lines_to_next_cell": 0
   },
   "source": [
    "Several patterns emerge from the time series of Moran's I. First, the is a secular decline in the value of Moran's I. Second, despite this decline,  there is never a year in which the spatial autocorrelation is not statistically significant. In other words, there is a strong spatial structure in the distribution of regional incomes that needs to be accounted for when focusing on inequality questions."
   ]
  },
  {
   "cell_type": "markdown",
   "metadata": {
    "ein.tags": "worksheet-0",
    "slideshow": {
     "slide_type": "-"
    }
   },
   "source": [
    "\n",
    "### Decompositional Approaches\n",
    "\n",
    "A popular approach to the analysis of inequality is to group the observations into mutually exclusive and exhaustive subsets in order to understand how much of the inequality is due to differences between members of the same subset versus between observations from different subsets. In the personal income literature, the groups have been defined in a number of ways: male vs. female, age cohorts, occupation types, race, etc. In regional applications, small areas are grouped into larger sets such that the resulting sets are spatially defined. **Add notions of connected components here and link to other chapters where appropriate.**\n",
    "\n",
    "\n",
    "<!-- #region {\"ein.tags\": \"worksheet-0\", \"slideshow\": {\"slide_type\": \"-\"}} -->\n",
    "### Regional Inequality Decompositions\n",
    "One approach to incorporating spatial considerations into regional inequality extends this decompositional approach by using space to define the subgroups. This can be seen using   Theil's $T$, which we encountered previously and decomposing the index  into so called *between* and *within* regional inequality components."
   ]
  },
  {
   "cell_type": "markdown",
   "metadata": {},
   "source": [
    "Applied to a collection of observations on  per capita incomes for $m$ regional economies: $y = \\left( y_1, y_2, \\ldots, y_m \\right)$, which are \n",
    "are grouped into $\\omega$ mutually exclusive regions such that $\\sum_{g=1}^{\\omega} m_g=m$, where $m_g$ is the number of areas\n",
    "assigned to region $g$, Theil's index from above can be rewritten as: "
   ]
  },
  {
   "cell_type": "markdown",
   "metadata": {},
   "source": [
    "$$\n",
    "\\begin{align}\n",
    "T &= \\sum_{i=1}^m \\left( \\frac{y_i}{\\sum_{i=1}^m y_i} \\ln \\left[ m \\frac{y_i}{\\sum_{i=1}^m y_i}\\right] \\right) \\\\\n",
    "  &= \\left[ \\sum_{g=1}^{\\omega} s_{g} log(\\frac{m}{m_g} s_g)  \\right] + \\left[ \\sum_{g=1}^{\\omega} s_g \\sum_{i \\in g} s_{i,g} log(m_g s_{i,g}) \\right] \\\\\n",
    "  &= B + W \\\\\n",
    "\\end{align}\n",
    "$$\n",
    "\n",
    "where $s_g = \\frac{\\sum_{i \\in g} y_i}{\\sum_i y_i}$, and   $s_{i,g} = y_i / \\sum_{i \\in g} y_i$. \n",
    "\n",
    "The first term is the between regions inequality component, and the second is\n",
    "the within regions inequality component. The within region term is a weighted\n",
    "average of inequality between economies belonging to the same region. Similar\n",
    "to what is done above for the case of interpersonal inequality, the estimate of\n",
    "the between region (group) component of the decomposition is based on setting\n",
    "the incomes of all economies (individuals )belonging to a region (group) equal\n",
    "to that of the regional (group) average of these per capita incomes. Now,\n",
    "however, intraregional inequality between economies within the same region is\n",
    "explicitly considered in the second component.[^weight]\n",
    "\n",
    "[^weight]: The regional decomposition does not involve weighting the regions by their respective population. See  {cite}`Gluschenko_2018` for further details. \n"
   ]
  },
  {
   "cell_type": "code",
   "execution_count": null,
   "metadata": {
    "collapsed": false,
    "ein.hycell": false,
    "ein.tags": "worksheet-0",
    "jupyter": {
     "outputs_hidden": false
    },
    "slideshow": {
     "slide_type": "-"
    }
   },
   "outputs": [],
   "source": [
    "pci_df.columns"
   ]
  },
  {
   "cell_type": "code",
   "execution_count": null,
   "metadata": {
    "collapsed": false,
    "ein.hycell": false,
    "ein.tags": "worksheet-0",
    "jupyter": {
     "outputs_hidden": false
    },
    "slideshow": {
     "slide_type": "-"
    }
   },
   "outputs": [],
   "source": [
    "pandas.unique(pci_df['Region'])"
   ]
  },
  {
   "cell_type": "code",
   "execution_count": null,
   "metadata": {
    "collapsed": false,
    "ein.hycell": false,
    "ein.tags": "worksheet-0",
    "jupyter": {
     "outputs_hidden": false
    },
    "slideshow": {
     "slide_type": "-"
    }
   },
   "outputs": [],
   "source": [
    "pci_df.plot(column='Region', categorical=True, linewidth=0.1)"
   ]
  },
  {
   "cell_type": "code",
   "execution_count": null,
   "metadata": {
    "collapsed": false,
    "ein.hycell": false,
    "ein.tags": "worksheet-0",
    "jupyter": {
     "outputs_hidden": false
    },
    "slideshow": {
     "slide_type": "-"
    }
   },
   "outputs": [],
   "source": [
    "region_df = pci_df.dissolve(by='STATEFP')"
   ]
  },
  {
   "cell_type": "code",
   "execution_count": null,
   "metadata": {
    "collapsed": false,
    "ein.hycell": false,
    "ein.tags": "worksheet-0",
    "jupyter": {
     "outputs_hidden": false
    },
    "slideshow": {
     "slide_type": "-"
    }
   },
   "outputs": [],
   "source": [
    "pandas.unique(region_df.Region)"
   ]
  },
  {
   "cell_type": "code",
   "execution_count": null,
   "metadata": {
    "collapsed": false,
    "ein.hycell": false,
    "ein.tags": "worksheet-0",
    "jupyter": {
     "outputs_hidden": false
    },
    "slideshow": {
     "slide_type": "-"
    }
   },
   "outputs": [],
   "source": [
    "ax = region_df.plot(column='Region', categorical=True)\n",
    "_ = ax.axis('off')"
   ]
  },
  {
   "cell_type": "code",
   "execution_count": null,
   "metadata": {},
   "outputs": [],
   "source": [
    "pci_df.columns"
   ]
  },
  {
   "cell_type": "code",
   "execution_count": null,
   "metadata": {
    "collapsed": false,
    "ein.hycell": false,
    "ein.tags": "worksheet-0",
    "jupyter": {
     "outputs_hidden": false
    },
    "slideshow": {
     "slide_type": "-"
    }
   },
   "outputs": [],
   "source": [
    "region_names = [\"New England\",\n",
    "               'Mideast', 'Great Lakes', 'Plains',\n",
    "               'Southeast', 'Southwest', 'Rocky Mountain',\n",
    "                'Far West']"
   ]
  },
  {
   "cell_type": "code",
   "execution_count": null,
   "metadata": {},
   "outputs": [],
   "source": [
    "fig = plt.figure(figsize=(15,12))\n",
    "fig.subplots_adjust(hspace=0.4, wspace=0.4)\n",
    "for i in range(1, 9):\n",
    "    ax = fig.add_subplot(2, 4, i)\n",
    "    rdf = pci_df[pci_df.Region==i]\n",
    "    rdf.plot(ax=ax, linewidth=0.1)\n",
    "    ax.set_title(region_names[i-1])\n",
    "    ax.axis('off')\n",
    "    "
   ]
  },
  {
   "cell_type": "code",
   "execution_count": null,
   "metadata": {
    "collapsed": false,
    "ein.hycell": false,
    "ein.tags": "worksheet-0",
    "jupyter": {
     "outputs_hidden": false
    },
    "slideshow": {
     "slide_type": "-"
    }
   },
   "outputs": [],
   "source": [
    "pci_df.groupby('Region').mean()"
   ]
  },
  {
   "cell_type": "code",
   "execution_count": null,
   "metadata": {
    "collapsed": false,
    "ein.hycell": false,
    "ein.tags": "worksheet-0",
    "jupyter": {
     "outputs_hidden": false
    },
    "slideshow": {
     "slide_type": "-"
    }
   },
   "outputs": [],
   "source": [
    "regimes = pci_df['Region']\n",
    "ys = [str(y) for y in years]"
   ]
  },
  {
   "cell_type": "code",
   "execution_count": null,
   "metadata": {},
   "outputs": [],
   "source": [
    "rmeans = pci_df.groupby(by='Region').mean().transpose()"
   ]
  },
  {
   "cell_type": "code",
   "execution_count": null,
   "metadata": {},
   "outputs": [],
   "source": [
    "rmeans.index"
   ]
  },
  {
   "cell_type": "code",
   "execution_count": null,
   "metadata": {},
   "outputs": [],
   "source": [
    "rmeans = rmeans.loc[ys]"
   ]
  },
  {
   "cell_type": "code",
   "execution_count": null,
   "metadata": {},
   "outputs": [],
   "source": [
    "rmeans.columns = region_names"
   ]
  },
  {
   "cell_type": "code",
   "execution_count": null,
   "metadata": {},
   "outputs": [],
   "source": [
    "rmeans.head()"
   ]
  },
  {
   "cell_type": "code",
   "execution_count": null,
   "metadata": {},
   "outputs": [],
   "source": [
    "rmeans = pandas.DataFrame(rmeans)"
   ]
  },
  {
   "cell_type": "code",
   "execution_count": null,
   "metadata": {},
   "outputs": [],
   "source": [
    "rmeans.plot.line()"
   ]
  },
  {
   "cell_type": "markdown",
   "metadata": {},
   "source": [
    "## Regional Decomposition of Inequality"
   ]
  },
  {
   "cell_type": "code",
   "execution_count": null,
   "metadata": {},
   "outputs": [],
   "source": [
    "theil_dr = pysal.explore.inequality.theil.TheilD(pci_df[ys].values, regimes)"
   ]
  },
  {
   "cell_type": "code",
   "execution_count": null,
   "metadata": {
    "collapsed": false,
    "ein.hycell": false,
    "ein.tags": "worksheet-0",
    "jupyter": {
     "outputs_hidden": false
    },
    "slideshow": {
     "slide_type": "-"
    }
   },
   "outputs": [],
   "source": [
    "theil_dr.bg"
   ]
  },
  {
   "cell_type": "code",
   "execution_count": null,
   "metadata": {
    "collapsed": false,
    "ein.hycell": false,
    "ein.tags": "worksheet-0",
    "jupyter": {
     "outputs_hidden": false
    },
    "slideshow": {
     "slide_type": "-"
    }
   },
   "outputs": [],
   "source": [
    "res_df['bgr'] = theil_dr.bg\n",
    "res_df['wgr'] = theil_dr.wg"
   ]
  },
  {
   "cell_type": "code",
   "execution_count": null,
   "metadata": {
    "collapsed": false,
    "ein.hycell": false,
    "ein.tags": "worksheet-0",
    "jupyter": {
     "outputs_hidden": false
    },
    "slideshow": {
     "slide_type": "-"
    }
   },
   "outputs": [],
   "source": [
    "res_df.plot(subplots=True, figsize=(15,6))"
   ]
  },
  {
   "cell_type": "code",
   "execution_count": null,
   "metadata": {
    "collapsed": false,
    "ein.hycell": false,
    "ein.tags": "worksheet-0",
    "jupyter": {
     "outputs_hidden": false
    },
    "slideshow": {
     "slide_type": "-"
    }
   },
   "outputs": [],
   "source": [
    "\n",
    "numpy.random.seed(12345)\n",
    "theil_drs = pysal.explore.inequality.theil.TheilDSim(pci_df[ys].values, regimes, 999)"
   ]
  },
  {
   "cell_type": "code",
   "execution_count": null,
   "metadata": {
    "collapsed": false,
    "ein.hycell": false,
    "ein.tags": "worksheet-0",
    "jupyter": {
     "outputs_hidden": false
    },
    "slideshow": {
     "slide_type": "-"
    }
   },
   "outputs": [],
   "source": [
    "res_df['bgr_pvalue'] = theil_drs.bg_pvalue\n",
    "res_df.plot(subplots=True, figsize=(15,6))"
   ]
  },
  {
   "cell_type": "code",
   "execution_count": null,
   "metadata": {},
   "outputs": [],
   "source": [
    "res_df['bgr_share'] = res_df['bgr'] / res_df['T']\n",
    "res_df['bgr_share'].plot()"
   ]
  },
  {
   "cell_type": "markdown",
   "metadata": {},
   "source": [
    "## Decomposition Using States"
   ]
  },
  {
   "cell_type": "code",
   "execution_count": null,
   "metadata": {},
   "outputs": [],
   "source": [
    "theil_ds = pysal.explore.inequality.theil.TheilD(pci_df[ys].values, pci_df['STATEFP'])"
   ]
  },
  {
   "cell_type": "code",
   "execution_count": null,
   "metadata": {},
   "outputs": [],
   "source": [
    "theil_ds.T"
   ]
  },
  {
   "cell_type": "code",
   "execution_count": null,
   "metadata": {},
   "outputs": [],
   "source": [
    "theil_ds.bg"
   ]
  },
  {
   "cell_type": "code",
   "execution_count": null,
   "metadata": {},
   "outputs": [],
   "source": [
    "res_df['bgs_share'] = theil_ds.bg / theil_ds.T\n",
    "res_df['bgs'] = theil_ds.bg"
   ]
  },
  {
   "cell_type": "code",
   "execution_count": null,
   "metadata": {},
   "outputs": [],
   "source": [
    "res_df[['bgr', 'bgs', 'T']].plot()"
   ]
  },
  {
   "cell_type": "code",
   "execution_count": null,
   "metadata": {},
   "outputs": [],
   "source": [
    "res_df[['bgr_share', 'bgs_share']].plot()"
   ]
  },
  {
   "cell_type": "code",
   "execution_count": null,
   "metadata": {},
   "outputs": [],
   "source": [
    "res_df[['bgr_share', 'bgs_share','T']].corr()"
   ]
  },
  {
   "cell_type": "markdown",
   "metadata": {},
   "source": [
    "A few patterns emerge from these figures. First, inequality between the states is larger than inequality between regions. Second, inequality within states is smaller than inequality within regions. Third, the time series patterns for the interregional components are similar for the BEA regions and state partitions of the counties. Finally, the correlation of between share and overall inequality is higher at the state level than for the BEA region level"
   ]
  },
  {
   "cell_type": "markdown",
   "metadata": {},
   "source": [
    "### Intraregional inequality\n",
    "We can take a closer look at the within region inequality component by dissagregating the total value from XX into that occuring within each of the 8 regions. This can be done by calculating the global Theil index on the counties belonging to a given region."
   ]
  },
  {
   "cell_type": "code",
   "execution_count": null,
   "metadata": {},
   "outputs": [],
   "source": [
    "region_names = [\"New England\",\n",
    "               'Mideast', 'Great Lakes', 'Plains',\n",
    "               'Southeast', 'Southwest', 'Rocky Mountain',\n",
    "                'Far West']\n",
    "results = []\n",
    "table = []\n",
    "for region in range(1, 9):\n",
    "    rdf = pci_df[pci_df.Region==region]\n",
    "    #rdf.plot()\n",
    "    #print(region, len(pandas.unique(rdf.STATEFP)), rdf.shape[0])\n",
    "    table.append([region, region_names[region-1], len(pandas.unique(rdf.STATEFP)), rdf.shape[0]])\n",
    "    #results.append(pysal.explore.inequality.theil.TheilDSim(rdf[ys].values, rdf.STATEFP,999))\n",
    "    "
   ]
  },
  {
   "cell_type": "code",
   "execution_count": null,
   "metadata": {},
   "outputs": [],
   "source": [
    "summary = pandas.DataFrame(table)"
   ]
  },
  {
   "cell_type": "code",
   "execution_count": null,
   "metadata": {},
   "outputs": [],
   "source": [
    "summary.columns = [ \"Region\", \"Name\", \"States\", \"Counties\"]"
   ]
  },
  {
   "cell_type": "code",
   "execution_count": null,
   "metadata": {},
   "outputs": [],
   "source": [
    "summary"
   ]
  },
  {
   "cell_type": "code",
   "execution_count": null,
   "metadata": {},
   "outputs": [],
   "source": [
    "region_names = [\"New England\",\n",
    "               'Mideast', 'Great Lakes', 'Plains',\n",
    "               'Southeast', 'Southwest', 'Rocky Mountain',\n",
    "                'Far West']\n",
    "results = []\n",
    "table = []\n",
    "for region in range(1, 9):\n",
    "    rdf = pci_df[pci_df.Region==region]\n",
    "    #rdf.plot()\n",
    "    #print(region, len(pandas.unique(rdf.STATEFP)), rdf.shape[0])\n",
    "    table.append([region, region_names[region-1], len(pandas.unique(rdf.STATEFP)), rdf.shape[0]])\n",
    "    results.append(pysal.explore.inequality.theil.TheilDSim(rdf[ys].values, rdf.STATEFP,999))\n",
    "    "
   ]
  },
  {
   "cell_type": "code",
   "execution_count": null,
   "metadata": {},
   "outputs": [],
   "source": [
    "len(results)"
   ]
  },
  {
   "cell_type": "code",
   "execution_count": null,
   "metadata": {},
   "outputs": [],
   "source": [
    "r1 = results[0]"
   ]
  },
  {
   "cell_type": "code",
   "execution_count": null,
   "metadata": {},
   "outputs": [],
   "source": [
    "r1.bg_pvalue"
   ]
  },
  {
   "cell_type": "code",
   "execution_count": null,
   "metadata": {},
   "outputs": [],
   "source": [
    "Tr = pandas.DataFrame([result.T for result in results]).transpose()"
   ]
  },
  {
   "cell_type": "code",
   "execution_count": null,
   "metadata": {},
   "outputs": [],
   "source": [
    "Tr.head()"
   ]
  },
  {
   "cell_type": "code",
   "execution_count": null,
   "metadata": {},
   "outputs": [],
   "source": [
    "Tr = Tr.rename(columns=dict([(i,name) for i,name in enumerate(region_names)]))"
   ]
  },
  {
   "cell_type": "code",
   "execution_count": null,
   "metadata": {},
   "outputs": [],
   "source": [
    "pinned0 = Tr.divide(Tr.iloc[0])"
   ]
  },
  {
   "cell_type": "code",
   "execution_count": null,
   "metadata": {
    "lines_to_next_cell": 0
   },
   "outputs": [],
   "source": [
    "import pandas as pd\n",
    "\n",
    "df = pinned0\n",
    "markers = [ \"+\", \"8\", \"^\", \"p\", \".\", \">\", \"1\", '2']\n",
    "ax = df.plot(kind='line', figsize=(15, 12))\n",
    "for i, line in enumerate(ax.get_lines()):\n",
    "    line.set_marker(markers[i])\n",
    "\n",
    "# for adding legend\n",
    "ax.legend(ax.get_lines(), df.columns, loc='best')\n",
    "_ = ax.set_title(\"County Income Inequality Within BEA Regions (Relative to Year 0)\")"
   ]
  },
  {
   "cell_type": "markdown",
   "metadata": {},
   "source": [
    "Unpacking the intraregional inequality term reveals that the original decomposition of inequality into within and between regions actually masks a great deal of heterogeneity in the internal inequality dynamics across the eight regions. Put another way, the overall trend in the aggregate within region component above is an average of the trends exhibited in each of the eight regions. There are two distinct groups of regions in this regard. The first consists of regions where the inequality between counties within each region has been increasing over the sample period. This group is composed of the New England,  Mideast, Far West, and Rocky Mountains regions. The second group are those regions where intraregional inequality has remained stable, or even decreased, over time. The Great Lakes, Southeast, and Southwest regions compose this group. The one outlier region is the Plains which does not fall neatly into either of these two groups."
   ]
  },
  {
   "cell_type": "markdown",
   "metadata": {},
   "source": [
    "### Regional Inequality Between States\n",
    "\n",
    "We can also ask if there is spatial heterogeneity in the inequality between counties from different states across each of the eight regions. That is, do states matter more in different regions?"
   ]
  },
  {
   "cell_type": "code",
   "execution_count": null,
   "metadata": {},
   "outputs": [],
   "source": [
    "bs =  numpy.array([ r.bg[0]/ r.T for r in results]).T"
   ]
  },
  {
   "cell_type": "code",
   "execution_count": null,
   "metadata": {},
   "outputs": [],
   "source": [
    "bs.shape"
   ]
  },
  {
   "cell_type": "code",
   "execution_count": null,
   "metadata": {},
   "outputs": [],
   "source": [
    "bs_df = pandas.DataFrame(bs, columns=region_names)"
   ]
  },
  {
   "cell_type": "code",
   "execution_count": null,
   "metadata": {
    "lines_to_next_cell": 0
   },
   "outputs": [],
   "source": [
    "import pandas as pd\n",
    "\n",
    "\n",
    "markers = [ \"+\", \"8\", \"^\", \"p\", \".\", \">\", \"1\", '2']\n",
    "ax = bs_df.plot(kind='line', figsize=(15, 12))\n",
    "for i, line in enumerate(ax.get_lines()):\n",
    "    line.set_marker(markers[i])\n",
    "\n",
    "# for adding legend\n",
    "ax.legend(ax.get_lines(), df.columns, loc='best')\n",
    "_ = ax.set_title(\"Between State Inequality as a Share of Intraregional Inequality\")"
   ]
  },
  {
   "cell_type": "markdown",
   "metadata": {},
   "source": [
    "In general terms, there is much more similarity across the regions in terms of inequality between the states. The between state share of inequality is the smaller component of inequality between the counties within each of the regions with the exception of the New England region."
   ]
  },
  {
   "cell_type": "markdown",
   "metadata": {
    "ein.tags": "worksheet-0",
    "slideshow": {
     "slide_type": "-"
    }
   },
   "source": [
    "<!-- #region {\"ein.tags\": \"worksheet-0\", \"slideshow\": {\"slide_type\": \"-\"}} -->\n",
    "\n",
    "\n",
    "### Spatializing Classic Measures"
   ]
  },
  {
   "cell_type": "markdown",
   "metadata": {},
   "source": [
    "We now turn to two newer spatial analytics that extend a selction of the classic (a-spatial) inequality measures above to introduce a spatially explicit focus.\n",
    "\n",
    "#### Spatial Gini\n",
    "\n",
    "The first spatial extension was introduced by {cite}`Rey_2012` and is designed to consider\n",
    "the role of adjacency in a decomposition of the Gini index of inequality. More\n",
    "specifically, The Gini in mean  is\n",
    "$$G = \\frac{\\sum_i \\sum_j \\left | x_i - x_j \\right|}{2 n^2 \\bar{x}} $$\n",
    "and the spatial decomposition focuses on the numerator\n",
    "$$\n",
    "\\sum_i \\sum_j \\left |x_i - x_j \\right | = \\sum_i \\sum_j \\left( w_{i,j} \\left |x_i - x_j \\right | \\right ) + \\left( (1-w_{i,j})  \\left |x_i - x_j \\right | \\right )\n",
    "$$\n",
    "where $w_{i,j}$ is an element of a binary spatial weights matrix indicating if observations $i$ and $j$ are spatial neighbors. This results in\n",
    "\n",
    "$$G = \\frac{\\sum_i \\sum_j w_{i,j}\\left | x_i - x_j \\right|}{2 n^2 \\bar{x}} +   \\frac{\\sum_i \\sum_j \\left (1-w_{i,j} )| x_i - x_j \\right|}{2 n^2 \\bar{x}}. $$\n",
    "\n",
    "The spatial Iini allows for a consideration of the spatial dependence in inequality. As this dependence increases, the second term of the spatial Gini can be expected to grow relative to the case where incomes are randomly distributed in space. Inference on the spatial Gini can be based on random spatial permutations of the income values, as we have seen elsewhere in this book."
   ]
  },
  {
   "cell_type": "markdown",
   "metadata": {},
   "source": [
    "The spatial Gini also provides a useful complement to the regional decomposition used in the Theil statistic. The latter does not consider pair-wise relationships between observations, while the spatial Gini does."
   ]
  },
  {
   "cell_type": "code",
   "execution_count": null,
   "metadata": {},
   "outputs": [],
   "source": [
    "from inequality.gini import Gini_Spatial"
   ]
  },
  {
   "cell_type": "code",
   "execution_count": null,
   "metadata": {},
   "outputs": [],
   "source": [
    "wq.transform = 'B'"
   ]
  },
  {
   "cell_type": "markdown",
   "metadata": {},
   "source": [
    "The spatial Gini takes a vector of incomes and a spatial weights object:"
   ]
  },
  {
   "cell_type": "code",
   "execution_count": null,
   "metadata": {},
   "outputs": [],
   "source": [
    "gs69 = Gini_Spatial(pci_df['1969'], wq)"
   ]
  },
  {
   "cell_type": "code",
   "execution_count": null,
   "metadata": {},
   "outputs": [],
   "source": [
    "gs69.g"
   ]
  },
  {
   "cell_type": "code",
   "execution_count": null,
   "metadata": {},
   "outputs": [],
   "source": [
    "gs69.p_sim"
   ]
  },
  {
   "cell_type": "markdown",
   "metadata": {},
   "source": [
    "The value is statistically significant for 1969, indicating that inequality between neighboring pairs of counties is different from the inequality between county paris that are not geographically proximate.\n",
    "\n",
    "We can apply the same statistic over each year in the sample:"
   ]
  },
  {
   "cell_type": "code",
   "execution_count": null,
   "metadata": {},
   "outputs": [],
   "source": [
    "gs = [Gini_Spatial(pci_df[y], wq) for y in ys]"
   ]
  },
  {
   "cell_type": "code",
   "execution_count": null,
   "metadata": {},
   "outputs": [],
   "source": [
    "gs_array = np.array([(gsi.e_wcg, gsi.wcg, gsi.z_wcg, gsi.p_sim) for gsi in gs])"
   ]
  },
  {
   "cell_type": "markdown",
   "metadata": {},
   "source": [
    "Extracting the z-values for the spatial Gini we see that the spatial dependence in the inequality is signficant in every year of the sample:"
   ]
  },
  {
   "cell_type": "code",
   "execution_count": null,
   "metadata": {},
   "outputs": [],
   "source": [
    "res_df['z_wcg'] = gs_array[:,2]\n",
    "res_df.plot(y=['z_wcg'])"
   ]
  },
  {
   "cell_type": "markdown",
   "metadata": {
    "ein.tags": "worksheet-0",
    "slideshow": {
     "slide_type": "-"
    }
   },
   "source": [
    "#### Spatial 20:20\n",
    "The final analytics that we examine in this notebook are based on extending the classic 20:20 ratio to develop spatial visualizations.\n",
    "As was seen earlier, the 20:20 ratio measures the gap in the incomes between the counties at the 80th and 20th percentiles of the income distirbution.\n",
    "In the spatial 20:20 analytic, we can visualize and measure the geographical gap (separation) between these pair of counties.\n"
   ]
  },
  {
   "cell_type": "code",
   "execution_count": null,
   "metadata": {
    "collapsed": false,
    "ein.hycell": false,
    "ein.tags": "worksheet-0",
    "jupyter": {
     "outputs_hidden": false
    },
    "slideshow": {
     "slide_type": "-"
    }
   },
   "outputs": [],
   "source": [
    "ranks = pci_df.rank()"
   ]
  },
  {
   "cell_type": "code",
   "execution_count": null,
   "metadata": {
    "collapsed": false,
    "ein.hycell": false,
    "ein.tags": "worksheet-0",
    "jupyter": {
     "outputs_hidden": false
    },
    "lines_to_next_cell": 2,
    "slideshow": {
     "slide_type": "-"
    }
   },
   "outputs": [],
   "source": [
    "for year in years:\n",
    "    pci_df[\"{}_rank\".format(year)] = pci_df[str(year)].rank(method='first')"
   ]
  },
  {
   "cell_type": "code",
   "execution_count": null,
   "metadata": {
    "collapsed": false,
    "jupyter": {
     "outputs_hidden": false
    }
   },
   "outputs": [],
   "source": [
    "ridx_20 = int(.2 * 3077)\n",
    "ridx_80 = int(.8 * 3077)\n",
    "ridx_20, ridx_80"
   ]
  },
  {
   "cell_type": "code",
   "execution_count": null,
   "metadata": {},
   "outputs": [],
   "source": [
    "df = pci_df"
   ]
  },
  {
   "cell_type": "code",
   "execution_count": null,
   "metadata": {
    "collapsed": false,
    "jupyter": {
     "outputs_hidden": false
    }
   },
   "outputs": [],
   "source": [
    "df['1969_rank']"
   ]
  },
  {
   "cell_type": "code",
   "execution_count": null,
   "metadata": {
    "collapsed": false,
    "jupyter": {
     "outputs_hidden": false
    }
   },
   "outputs": [],
   "source": [
    "df.index[df['1969_rank']==615].tolist()"
   ]
  },
  {
   "cell_type": "code",
   "execution_count": null,
   "metadata": {
    "collapsed": false,
    "ein.hycell": false,
    "ein.tags": "worksheet-0",
    "jupyter": {
     "outputs_hidden": false
    },
    "slideshow": {
     "slide_type": "-"
    }
   },
   "outputs": [],
   "source": [
    "idx_20 = []\n",
    "idx_80 = []\n",
    "for year in years:\n",
    "    column = \"{}_rank\".format(year)\n",
    "    idx_20_i = df.index[df[column]==ridx_20]\n",
    "    idx_20.extend(idx_20_i)\n",
    "    idx_80_i = df.index[df[column]==ridx_80]\n",
    "    idx_80.extend(idx_80_i)"
   ]
  },
  {
   "cell_type": "markdown",
   "metadata": {},
   "source": [
    "As an example of the spatial 20:20 view, we plot the pair of counties at the 20th and 80th percentile for the last period of the sample:"
   ]
  },
  {
   "cell_type": "code",
   "execution_count": null,
   "metadata": {
    "collapsed": false,
    "ein.hycell": false,
    "ein.tags": "worksheet-0",
    "jupyter": {
     "outputs_hidden": false
    },
    "slideshow": {
     "slide_type": "-"
    }
   },
   "outputs": [],
   "source": [
    "df.loc[[idx_20[-1], idx_80[-1]], :].plot()"
   ]
  },
  {
   "cell_type": "markdown",
   "metadata": {},
   "source": [
    "Because we will be interested in measuring the spatial separation between the 20:20 counties each period, we set the coordinate reference system:"
   ]
  },
  {
   "cell_type": "code",
   "execution_count": null,
   "metadata": {
    "collapsed": false,
    "ein.hycell": false,
    "ein.tags": "worksheet-0",
    "jupyter": {
     "outputs_hidden": false
    },
    "slideshow": {
     "slide_type": "-"
    }
   },
   "outputs": [],
   "source": [
    "import geopandas as gpd\n",
    "from shapely.geometry import Point,Polygon\n",
    "geom=[Point(xy) for xy in zip([117.454361,117.459880],[38.8459879,38.846255])]\n",
    "ldf=gpd.GeoDataFrame(geometry=geom,crs={'init':'epsg:4326'})\n",
    "ldf.to_crs(epsg=3310,inplace=True)\n",
    "l=gdf.distance(ldf.shift())"
   ]
  },
  {
   "cell_type": "code",
   "execution_count": null,
   "metadata": {
    "collapsed": false,
    "ein.hycell": false,
    "ein.tags": "worksheet-0",
    "jupyter": {
     "outputs_hidden": false
    },
    "slideshow": {
     "slide_type": "-"
    }
   },
   "outputs": [],
   "source": [
    "ldf = df.to_crs({'init':'epsg:4326'})"
   ]
  },
  {
   "cell_type": "code",
   "execution_count": null,
   "metadata": {
    "collapsed": false,
    "ein.hycell": false,
    "ein.tags": "worksheet-0",
    "jupyter": {
     "outputs_hidden": false
    },
    "slideshow": {
     "slide_type": "-"
    }
   },
   "outputs": [],
   "source": [
    "ldf.loc[[idx_20[-1], idx_80[-1]], :].plot()"
   ]
  },
  {
   "cell_type": "code",
   "execution_count": null,
   "metadata": {
    "collapsed": false,
    "ein.hycell": false,
    "ein.tags": "worksheet-0",
    "jupyter": {
     "outputs_hidden": false
    },
    "slideshow": {
     "slide_type": "-"
    }
   },
   "outputs": [],
   "source": [
    "ldf.to_crs(epsg=3310,inplace=True)\n"
   ]
  },
  {
   "cell_type": "code",
   "execution_count": null,
   "metadata": {
    "collapsed": false,
    "ein.hycell": false,
    "ein.tags": "worksheet-0",
    "jupyter": {
     "outputs_hidden": false
    },
    "slideshow": {
     "slide_type": "-"
    }
   },
   "outputs": [],
   "source": [
    "ldf.loc[[idx_20[-1], idx_80[-1]], :].plot()"
   ]
  },
  {
   "cell_type": "code",
   "execution_count": null,
   "metadata": {
    "collapsed": false,
    "ein.hycell": false,
    "ein.tags": "worksheet-0",
    "jupyter": {
     "outputs_hidden": false
    },
    "slideshow": {
     "slide_type": "-"
    }
   },
   "outputs": [],
   "source": [
    "small = ldf.loc[[idx_20[-1], idx_80[-1]], :]"
   ]
  },
  {
   "cell_type": "code",
   "execution_count": null,
   "metadata": {
    "collapsed": false,
    "ein.hycell": false,
    "ein.tags": "worksheet-0",
    "jupyter": {
     "outputs_hidden": false
    },
    "slideshow": {
     "slide_type": "-"
    }
   },
   "outputs": [],
   "source": [
    "small"
   ]
  },
  {
   "cell_type": "code",
   "execution_count": null,
   "metadata": {
    "collapsed": false,
    "ein.hycell": false,
    "ein.tags": "worksheet-0",
    "jupyter": {
     "outputs_hidden": false
    },
    "slideshow": {
     "slide_type": "-"
    }
   },
   "outputs": [],
   "source": [
    "small.distance(small.shift()).values[-1]"
   ]
  },
  {
   "cell_type": "code",
   "execution_count": null,
   "metadata": {
    "collapsed": false,
    "ein.hycell": false,
    "ein.tags": "worksheet-0",
    "jupyter": {
     "outputs_hidden": false
    },
    "slideshow": {
     "slide_type": "-"
    }
   },
   "outputs": [],
   "source": [
    "small.geometry.centroid"
   ]
  },
  {
   "cell_type": "code",
   "execution_count": null,
   "metadata": {
    "collapsed": false,
    "ein.hycell": false,
    "ein.tags": "worksheet-0",
    "jupyter": {
     "outputs_hidden": false
    },
    "slideshow": {
     "slide_type": "-"
    }
   },
   "outputs": [],
   "source": [
    "idxs = zip(idx_20, idx_80)\n",
    "distances = []\n",
    "for idx in idxs:\n",
    "    o,d = idx\n",
    "    #print(o,d, idx)\n",
    "    pair = df.loc[idx, :]\n",
    "    d = pair.distance(pair.shift()).values[-1]\n",
    "    distances.append(d)"
   ]
  },
  {
   "cell_type": "markdown",
   "metadata": {},
   "source": [
    "Visualizing the  plot the of the 20:20 distances, reveals a secular decline in the distances separating these pair of counties over time:"
   ]
  },
  {
   "cell_type": "code",
   "execution_count": null,
   "metadata": {
    "collapsed": false,
    "ein.hycell": false,
    "ein.tags": "worksheet-0",
    "jupyter": {
     "outputs_hidden": false
    },
    "lines_to_next_cell": 2,
    "slideshow": {
     "slide_type": "-"
    }
   },
   "outputs": [],
   "source": [
    "idxs = zip(idx_20, idx_80)\n",
    "\n",
    "len(distances), len(years), len(list(idxs))\n",
    "gini_df['s_dist'] = numpy.array(distances)"
   ]
  },
  {
   "cell_type": "code",
   "execution_count": null,
   "metadata": {
    "collapsed": false,
    "ein.hycell": false,
    "ein.tags": "worksheet-0",
    "jupyter": {
     "outputs_hidden": false
    },
    "slideshow": {
     "slide_type": "-"
    }
   },
   "outputs": [],
   "source": [
    "gini_df.plot(y=[\"s_dist\"])"
   ]
  },
  {
   "cell_type": "markdown",
   "metadata": {
    "ein.tags": "worksheet-0",
    "slideshow": {
     "slide_type": "-"
    }
   },
   "source": [
    "## Rank paths\n",
    "A final analytic that we use to examine the spatial distribution of inequality across US counties is the evolution of the rank paths for the 20:20 ratio.\n",
    "The rank path traces out the migration of a particular rank in the county income distribution over time {cite}`Rey_2020`. To construct the rank paths for the 20:20 counties, we first plot the centroids:"
   ]
  },
  {
   "cell_type": "code",
   "execution_count": null,
   "metadata": {
    "collapsed": false,
    "ein.tags": "worksheet-0",
    "jupyter": {
     "outputs_hidden": false
    },
    "lines_to_next_cell": 2,
    "slideshow": {
     "slide_type": "-"
    }
   },
   "outputs": [],
   "source": [
    "idxs = numpy.array(list(zip(idx_20, idx_80)))"
   ]
  },
  {
   "cell_type": "code",
   "execution_count": null,
   "metadata": {
    "collapsed": false,
    "ein.hycell": false,
    "ein.tags": "worksheet-0",
    "jupyter": {
     "outputs_hidden": false
    },
    "lines_to_next_cell": 0,
    "slideshow": {
     "slide_type": "-"
    }
   },
   "outputs": [],
   "source": [
    "\n",
    "fig, ax = plt.subplots(1, 1, sharex='col', sharey='row')\n",
    "df.loc[idxs[:,0],:].centroid.plot(ax=ax, color='r')\n",
    "df.loc[idxs[:,1],:].centroid.plot(ax=ax, color='b')\n",
    "ax.set_axis_off()"
   ]
  },
  {
   "cell_type": "markdown",
   "metadata": {},
   "source": [
    "\n"
   ]
  },
  {
   "cell_type": "code",
   "execution_count": null,
   "metadata": {
    "collapsed": false,
    "ein.hycell": false,
    "ein.tags": "worksheet-0",
    "jupyter": {
     "outputs_hidden": false
    },
    "lines_to_next_cell": 0,
    "slideshow": {
     "slide_type": "-"
    }
   },
   "outputs": [],
   "source": [
    "\n",
    "fig, ax = plt.subplots(1, 1, sharex='col', sharey='row')\n",
    "df.loc[idxs[:,0],:].centroid.plot(ax=ax, color='r')\n",
    "df.loc[idxs[:,1],:].centroid.plot(ax=ax, color='b')\n",
    "gdf.plot(ax=ax,edgecolor='gray', alpha=0.2)\n",
    "ax.set_axis_off()"
   ]
  },
  {
   "cell_type": "markdown",
   "metadata": {
    "ein.tags": "worksheet-0",
    "lines_to_next_cell": 0,
    "slideshow": {
     "slide_type": "-"
    }
   },
   "source": [
    "Next, a directed edge connects the centroids of the two states that held a specific rank in a pair of consecutive periods.  "
   ]
  },
  {
   "cell_type": "markdown",
   "metadata": {},
   "source": [
    "\n"
   ]
  },
  {
   "cell_type": "code",
   "execution_count": null,
   "metadata": {
    "collapsed": false,
    "ein.hycell": false,
    "ein.tags": "worksheet-0",
    "jupyter": {
     "outputs_hidden": false
    },
    "slideshow": {
     "slide_type": "-"
    }
   },
   "outputs": [],
   "source": [
    "from shapely.geometry import LineString"
   ]
  },
  {
   "cell_type": "code",
   "execution_count": null,
   "metadata": {
    "collapsed": false,
    "ein.hycell": false,
    "ein.tags": "worksheet-0",
    "jupyter": {
     "outputs_hidden": false
    },
    "slideshow": {
     "slide_type": "-"
    }
   },
   "outputs": [],
   "source": [
    "ls20 = geopandas.GeoSeries(LineString(df.loc[idxs[:,0],:].centroid.tolist()))\n",
    "ls80 = geopandas.GeoSeries(LineString(df.loc[idxs[:,1],:].centroid.tolist()))"
   ]
  },
  {
   "cell_type": "code",
   "execution_count": null,
   "metadata": {
    "collapsed": false,
    "ein.hycell": false,
    "ein.tags": "worksheet-0",
    "jupyter": {
     "outputs_hidden": false
    },
    "lines_to_next_cell": 0,
    "slideshow": {
     "slide_type": "-"
    }
   },
   "outputs": [],
   "source": [
    "\n",
    "fig, ax = plt.subplots(1, 1, sharex='col', sharey='row')\n",
    "ls20.plot(ax=ax, color='r', label='20p')\n",
    "ls80.plot(ax=ax, color='b')\n",
    "#gdf.plot(ax=ax,edgecolor='gray', alpha=0.2)\n",
    "plt.title('Rank Paths (80pct Blue, 20pct Red)')\n",
    "ax.set_axis_off()"
   ]
  },
  {
   "cell_type": "markdown",
   "metadata": {},
   "source": [
    "The rank paths can also be constructed using a moving temporal window to provide a view of the evolution of the rank migrations over subsets of the sample period. Here we do so using a window of five years:"
   ]
  },
  {
   "cell_type": "code",
   "execution_count": null,
   "metadata": {
    "collapsed": false,
    "ein.hycell": false,
    "ein.tags": "worksheet-0",
    "jupyter": {
     "outputs_hidden": false
    },
    "lines_to_next_cell": 2,
    "slideshow": {
     "slide_type": "-"
    }
   },
   "outputs": [],
   "source": [
    "columns = 4\n",
    "rows = 12\n",
    "fig, ax_array = plt.subplots(rows, columns, squeeze=False, figsize=(15,15), constrained_layout=True)\n",
    "year=0\n",
    "for i,ax_row in enumerate(ax_array):\n",
    "    for j,axes in enumerate(ax_row):\n",
    "        axes.set_title('{}-{}'.format(1969+year, 1969+year+5))\n",
    "        axes.set_yticklabels([])\n",
    "        axes.set_xticklabels([])\n",
    "        if year < 43:\n",
    "            ls20 = geopandas.GeoSeries(LineString(df.loc[idxs[:,0],:].centroid.tolist()[year:year+5]))\n",
    "            ls20.plot(ax=axes, color='r', label='20p')\n",
    "            ls80 = geopandas.GeoSeries(LineString(df.loc[idxs[:,1],:].centroid.tolist()[year:year+5]))\n",
    "            ls80.plot(ax=axes, color='b', label='20p')\n",
    "    \n",
    "        year += 1\n",
    "plt.show()"
   ]
  },
  {
   "cell_type": "markdown",
   "metadata": {},
   "source": [
    "Overall, there is a general north-south split for the 20 and 80 rank paths, with the wealthier part of the distribution being located more often in the northern section of the country.\n"
   ]
  }
 ],
 "metadata": {
  "jupytext": {
   "cell_metadata_json": true,
   "formats": "ipynb,md"
  },
  "kernelspec": {
   "display_name": "Python 3",
   "language": "python",
   "name": "python3"
  },
  "language_info": {
   "codemirror_mode": {
    "name": "ipython",
    "version": 3
   },
   "file_extension": ".py",
   "mimetype": "text/x-python",
   "name": "python",
   "nbconvert_exporter": "python",
   "pygments_lexer": "ipython3",
   "version": "3.8.6"
  }
 },
 "nbformat": 4,
 "nbformat_minor": 4
}
